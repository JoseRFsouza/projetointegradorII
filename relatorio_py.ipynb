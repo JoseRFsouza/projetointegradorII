{
  "nbformat": 4,
  "nbformat_minor": 0,
  "metadata": {
    "colab": {
      "provenance": [],
      "authorship_tag": "ABX9TyNtc01RdRiExgRCSyYpTNzf",
      "include_colab_link": true
    },
    "kernelspec": {
      "name": "python3",
      "display_name": "Python 3"
    },
    "language_info": {
      "name": "python"
    }
  },
  "cells": [
    {
      "cell_type": "markdown",
      "metadata": {
        "id": "view-in-github",
        "colab_type": "text"
      },
      "source": [
        "<a href=\"https://colab.research.google.com/github/JoseRFsouza/projetointegradorII/blob/main/relatorio_py.ipynb\" target=\"_parent\"><img src=\"https://colab.research.google.com/assets/colab-badge.svg\" alt=\"Open In Colab\"/></a>"
      ]
    },
    {
      "cell_type": "code",
      "source": [
        "!git clone https://github.com/JoseRFsouza/projetointegradorII.git\n"
      ],
      "metadata": {
        "colab": {
          "base_uri": "https://localhost:8080/"
        },
        "id": "RkHP6222Bdp6",
        "outputId": "08c8f897-5986-4803-d5df-9e5d82680b7c"
      },
      "execution_count": 1,
      "outputs": [
        {
          "output_type": "stream",
          "name": "stdout",
          "text": [
            "Cloning into 'projetointegradorII'...\n",
            "remote: Enumerating objects: 9, done.\u001b[K\n",
            "remote: Counting objects: 100% (9/9), done.\u001b[K\n",
            "remote: Compressing objects: 100% (8/8), done.\u001b[K\n",
            "remote: Total 9 (delta 1), reused 0 (delta 0), pack-reused 0 (from 0)\u001b[K\n",
            "Receiving objects: 100% (9/9), 196.16 KiB | 1.36 MiB/s, done.\n",
            "Resolving deltas: 100% (1/1), done.\n"
          ]
        }
      ]
    },
    {
      "cell_type": "code",
      "execution_count": 2,
      "metadata": {
        "id": "mmhjWGyN-4RG"
      },
      "outputs": [],
      "source": [
        "import os\n",
        "os.chdir('/content/projetointegradorII')\n",
        "\n",
        "import pandas as pd\n",
        "\n",
        "dados_oficina = ('/content/projetointegradorII/oficina.xlsx')\n",
        "#dados_academia = ('/content/projetointegradorII/academia.csv')\n",
        "# df = pd.read_csv(dados_academia)\n",
        "df = pd.read_excel(dados_oficina, engine='openpyxl')\n",
        "\n",
        "json_data = df.to_json(orient='records')\n",
        "\n",
        "with open('dados.json','w') as json_file:\n",
        "    json_file.write(json_data)\n",
        "\n"
      ]
    }
  ]
}